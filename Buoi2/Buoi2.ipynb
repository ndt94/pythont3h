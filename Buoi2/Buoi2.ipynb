{
 "cells": [
  {
   "cell_type": "code",
   "execution_count": 3,
   "metadata": {},
   "outputs": [
    {
     "name": "stdout",
     "output_type": "stream",
     "text": [
      "So thu nhat : 10\n",
      "So thu hai : 5\n",
      "So nho hon la : 10\n"
     ]
    }
   ],
   "source": [
    "a = int(input('So thu nhat : '))\n",
    "b = int(input('So thu hai : '))\n",
    "\n",
    "if a < b:\n",
    "    print('So lon hon la :', b)\n",
    "else:\n",
    "    print('So nho hon la :', a)"
   ]
  },
  {
   "cell_type": "code",
   "execution_count": 5,
   "metadata": {},
   "outputs": [
    {
     "name": "stdout",
     "output_type": "stream",
     "text": [
      "GDP binh quan dau nguoi: 123123\n",
      "high\n"
     ]
    }
   ],
   "source": [
    "gdp = float(input('GDP binh quan dau nguoi: '))\n",
    "\n",
    "if gdp < 1025:\n",
    "    print('low')\n",
    "elif gdp < 3995:\n",
    "    print('lower-middle')\n",
    "elif gdp < 12375:\n",
    "    print('upper middle')\n",
    "else:\n",
    "    print('high')"
   ]
  },
  {
   "cell_type": "code",
   "execution_count": 7,
   "metadata": {},
   "outputs": [
    {
     "name": "stdout",
     "output_type": "stream",
     "text": [
      "Diem cua ung dung: 1.1\n",
      "kem\n"
     ]
    }
   ],
   "source": [
    "score = float(input('Diem cua ung dung: '))\n",
    "\n",
    "if score < 2.5:\n",
    "    print('kem')\n",
    "elif score < 3.5:\n",
    "    print('Trung binh')\n",
    "elif score < 4.5:\n",
    "    print('Tot')\n",
    "else:\n",
    "    print('Rat tot')"
   ]
  },
  {
   "cell_type": "code",
   "execution_count": 14,
   "metadata": {},
   "outputs": [
    {
     "name": "stdout",
     "output_type": "stream",
     "text": [
      "Tuoi: 56\n",
      "Gioi tinh Nam/Nu (M/F):M\n",
      "Trong do tuoi lao dong\n"
     ]
    }
   ],
   "source": [
    "age = int(input('Tuoi: '))\n",
    "gender = input('Gioi tinh Nam/Nu (M/F):')\n",
    "\n",
    "if age < 15:\n",
    "    print('Chua du tuoi lao dong')\n",
    "else:\n",
    "    retired_age =  60 if gender == 'M' else 55\n",
    "    if age < retired_age:\n",
    "        print('Trong do tuoi lao dong')\n",
    "    else:\n",
    "        print('Nghi huu')\n",
    "    \n"
   ]
  },
  {
   "cell_type": "code",
   "execution_count": 20,
   "metadata": {},
   "outputs": [
    {
     "name": "stdout",
     "output_type": "stream",
     "text": [
      "Nam: 2020\n",
      "La nam nhuan\n"
     ]
    }
   ],
   "source": [
    "year = int(input('Nam: '))\n",
    "\n",
    "if year % 4 != 0:\n",
    "    print('Khong phai nam nhuan')\n",
    "else:\n",
    "    if year % 100 != 0:\n",
    "        print('La nam nhuan')\n",
    "    else:\n",
    "        if year % 400 != 0:\n",
    "            print('Khong phai nam nhuan')\n",
    "        else:\n",
    "            print('La nam nhuan')"
   ]
  },
  {
   "cell_type": "code",
   "execution_count": 26,
   "metadata": {},
   "outputs": [
    {
     "name": "stdout",
     "output_type": "stream",
     "text": [
      "Nam: 2020\n",
      "La nam nhuan\n"
     ]
    }
   ],
   "source": [
    "y = int(input('Nam: '))\n",
    "\n",
    "if y % 400 == 0 or (y % 4 == 0 and y % 100 != 0):\n",
    "    print('La nam nhuan')\n",
    "else:\n",
    "    print('Khong la nam nhuan')"
   ]
  },
  {
   "cell_type": "code",
   "execution_count": 32,
   "metadata": {},
   "outputs": [
    {
     "name": "stdout",
     "output_type": "stream",
     "text": [
      "Da co no xau (T/F): F\n",
      "Thu nhap thang: 10\n",
      "Tien vay: 100\n",
      "True\n"
     ]
    }
   ],
   "source": [
    "noxau = input('Da co no xau (T/F): ')\n",
    "noxau = (noxau == 'T')\n",
    "thunhap_thang = float(input('Thu nhap thang: '))\n",
    "tienvay = float(input('Tien vay: '))\n",
    "\n",
    "duoc_vay = not noxau and tienvay <= 10 * thunhap_thang\n",
    "print(duoc_vay)"
   ]
  },
  {
   "cell_type": "code",
   "execution_count": 39,
   "metadata": {},
   "outputs": [
    {
     "name": "stdout",
     "output_type": "stream",
     "text": [
      "So km10.1\n",
      "115.89999999999999\n"
     ]
    }
   ],
   "source": [
    "km = float(input('So km'))\n",
    "\n",
    "if km < 10:\n",
    "    sotien = 5 + 11 * km\n",
    "else:\n",
    "    sotien = 5 + 11 * 10 + 9 * ( km - 10)\n",
    "print(sotien)"
   ]
  },
  {
   "cell_type": "code",
   "execution_count": 42,
   "metadata": {},
   "outputs": [
    {
     "name": "stdout",
     "output_type": "stream",
     "text": [
      "Can nang(kg): 65\n",
      "Chieu cao (met):1.72\n",
      "21.971335857220122\n",
      "Binh thuong\n"
     ]
    }
   ],
   "source": [
    "mass = float(input('Can nang(kg): '))\n",
    "height = float(input('Chieu cao (met):'))\n",
    "bmi = mass / (height * height)\n",
    "print(bmi)\n",
    "\n",
    "if bmi < 16:\n",
    "    print('Gay')\n",
    "elif bmi < 18.5:\n",
    "    print('Hoi gay')\n",
    "elif bmi < 25:\n",
    "    print('Binh thuong')\n",
    "elif bmi < 30:\n",
    "    print('Hoi beo')\n",
    "else:\n",
    "    print('Beo')"
   ]
  },
  {
   "cell_type": "code",
   "execution_count": 43,
   "metadata": {},
   "outputs": [
    {
     "name": "stdout",
     "output_type": "stream",
     "text": [
      "Nhiet do(C):22\n",
      "Toc do gio(km/h):5\n",
      "Ap suat(atm):1\n",
      "True\n"
     ]
    }
   ],
   "source": [
    "T = float(input('Nhiet do(C):'))\n",
    "W = float(input('Toc do gio(km/h):'))\n",
    "P = float(input('Ap suat(atm):'))\n",
    "\n",
    "if T > 21:\n",
    "    if W > 3:\n",
    "        if P > 0.87:\n",
    "            rain = True\n",
    "        else:\n",
    "            rain = False\n",
    "    else:\n",
    "        rain = False\n",
    "else:\n",
    "    if W > 7:\n",
    "        rain = True\n",
    "    else:\n",
    "        if P > 1.04:\n",
    "            rain = True\n",
    "        else:\n",
    "            rain = False\n",
    "\n",
    "print(rain)"
   ]
  },
  {
   "cell_type": "code",
   "execution_count": null,
   "metadata": {},
   "outputs": [],
   "source": []
  }
 ],
 "metadata": {
  "kernelspec": {
   "display_name": "Python 3",
   "language": "python",
   "name": "python3"
  },
  "language_info": {
   "codemirror_mode": {
    "name": "ipython",
    "version": 3
   },
   "file_extension": ".py",
   "mimetype": "text/x-python",
   "name": "python",
   "nbconvert_exporter": "python",
   "pygments_lexer": "ipython3",
   "version": "3.6.8"
  }
 },
 "nbformat": 4,
 "nbformat_minor": 2
}
