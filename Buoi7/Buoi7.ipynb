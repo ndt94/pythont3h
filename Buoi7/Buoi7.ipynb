{
 "cells": [
  {
   "cell_type": "code",
   "execution_count": 2,
   "metadata": {},
   "outputs": [],
   "source": [
    "f = open('test.txt', 'w')\n",
    "f.write('line 1\\n')\n",
    "f.write('line 2\\n')\n",
    "f.close()"
   ]
  },
  {
   "cell_type": "code",
   "execution_count": 4,
   "metadata": {},
   "outputs": [
    {
     "name": "stdout",
     "output_type": "stream",
     "text": [
      "line 1\n",
      "\n",
      "line 2\n",
      "\n"
     ]
    }
   ],
   "source": [
    "f = open('test.txt')\n",
    "for line in f:\n",
    "    line = line.strip()\n",
    "    print(line)\n",
    "f.close()"
   ]
  },
  {
   "cell_type": "code",
   "execution_count": 9,
   "metadata": {},
   "outputs": [
    {
     "name": "stdout",
     "output_type": "stream",
     "text": [
      "line 1\n",
      "\n",
      "line 2\n",
      "\n"
     ]
    }
   ],
   "source": [
    "f = open('test.txt')\n",
    "lines = f.readlines()\n",
    "f.close()\n",
    "for line in lines: print(line.strip())"
   ]
  },
  {
   "cell_type": "code",
   "execution_count": 7,
   "metadata": {},
   "outputs": [
    {
     "name": "stdout",
     "output_type": "stream",
     "text": [
      "line 1\n",
      "\n",
      "line 2\n",
      "\n",
      "\n"
     ]
    }
   ],
   "source": [
    "f = open('test.txt')\n",
    "st = f.read()\n",
    "f.close()\n",
    "print(st)"
   ]
  },
  {
   "cell_type": "code",
   "execution_count": 8,
   "metadata": {},
   "outputs": [],
   "source": [
    "fi = open('test.txt')\n",
    "fo = open('output.txt', 'w')\n",
    "\n",
    "for line in fi:\n",
    "    line = line.strip()\n",
    "    if line != '':\n",
    "        fo.write(line + '\\n')\n",
    "fi.close()\n",
    "fo.close()"
   ]
  },
  {
   "cell_type": "code",
   "execution_count": 10,
   "metadata": {},
   "outputs": [],
   "source": [
    "with open('test.txt') as f:\n",
    "    lines = f.readlines()\n",
    "\n",
    "with open('output.txt', 'w') as f:\n",
    "    for line in lines:\n",
    "        line = line.strip()\n",
    "        if line != '':\n",
    "            f.write(line + '\\n')"
   ]
  },
  {
   "cell_type": "code",
   "execution_count": 16,
   "metadata": {},
   "outputs": [
    {
     "name": "stdout",
     "output_type": "stream",
     "text": [
      "False\n"
     ]
    }
   ],
   "source": [
    "lst = [1,3,2,4,5,6]\n",
    "# for i in range(len(lst) - 1):\n",
    "#     if lst[i] > lst[i+1]:\n",
    "#         print('Khong tang dan')\n",
    "#         break\n",
    "\n",
    "def laDaySoTang(lst):\n",
    "    N = len(lst)\n",
    "    for i in range(N-1):\n",
    "        if lst[i] > lst[i+1]:\n",
    "            return False\n",
    "    return True\n",
    "print(laDaySoTang(lst))"
   ]
  },
  {
   "cell_type": "code",
   "execution_count": 26,
   "metadata": {},
   "outputs": [
    {
     "name": "stdout",
     "output_type": "stream",
     "text": [
      "True\n"
     ]
    }
   ],
   "source": [
    "expr = '(a + (b+c *(d+e)))'\n",
    "\n",
    "def isValid(expr):\n",
    "    s = 0\n",
    "    for c in expr:\n",
    "        if c == '(':\n",
    "            s += 1\n",
    "        elif c == ')':\n",
    "            s -= 1\n",
    "        if s < 0:\n",
    "            return False\n",
    "        \n",
    "    return s == 0\n",
    "\n",
    "print(isValid(expr))"
   ]
  },
  {
   "cell_type": "code",
   "execution_count": 33,
   "metadata": {},
   "outputs": [
    {
     "name": "stdout",
     "output_type": "stream",
     "text": [
      "3 1\n"
     ]
    }
   ],
   "source": [
    "lst = ['Ha Noi', 'Ha Giang', 'Ha Nam', 'Ha Tien']\n",
    "N = len(lst[0])\n",
    "for st in lst:\n",
    "    N = min(N, len(st))\n",
    "vt = -1\n",
    "index = -1\n",
    "for i in range(N):\n",
    "    for st in lst[1:]:\n",
    "        if st[i] != lst[0][i]:\n",
    "            vt = i\n",
    "            index = lst.index(st) \n",
    "            break\n",
    "    if vt >= 0:\n",
    "        break\n",
    "print(vt, index)\n"
   ]
  },
  {
   "cell_type": "code",
   "execution_count": null,
   "metadata": {},
   "outputs": [],
   "source": []
  }
 ],
 "metadata": {
  "kernelspec": {
   "display_name": "Python 3",
   "language": "python",
   "name": "python3"
  },
  "language_info": {
   "codemirror_mode": {
    "name": "ipython",
    "version": 3
   },
   "file_extension": ".py",
   "mimetype": "text/x-python",
   "name": "python",
   "nbconvert_exporter": "python",
   "pygments_lexer": "ipython3",
   "version": "3.6.8"
  }
 },
 "nbformat": 4,
 "nbformat_minor": 2
}
