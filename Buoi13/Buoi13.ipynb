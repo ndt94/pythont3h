{
 "cells": [
  {
   "cell_type": "code",
   "execution_count": 7,
   "metadata": {},
   "outputs": [
    {
     "name": "stdout",
     "output_type": "stream",
     "text": [
      "2019-11-25 19:10:44.905586\n",
      "25/11/2019\n",
      "Ha Noi, 19 gio, 10 phut - ngay 25, thang 11, nam 2019\n"
     ]
    }
   ],
   "source": [
    "from datetime import datetime, timedelta\n",
    "d = datetime.now()\n",
    "print(d)\n",
    "print(d.strftime('%d/%m/%Y'))\n",
    "print(d.strftime('Ha Noi, %H gio, %M phut - ngay %d, thang %m, nam %Y'))"
   ]
  },
  {
   "cell_type": "code",
   "execution_count": 8,
   "metadata": {},
   "outputs": [
    {
     "name": "stdout",
     "output_type": "stream",
     "text": [
      "1574614800.0\n"
     ]
    }
   ],
   "source": [
    "st = '25/11/2019'\n",
    "d = datetime.strptime(st, '%d/%m/%Y')\n",
    "print(datetime.timestamp(d))"
   ]
  },
  {
   "cell_type": "code",
   "execution_count": 11,
   "metadata": {},
   "outputs": [
    {
     "name": "stdout",
     "output_type": "stream",
     "text": [
      "2019-12-05 19:15:51.572914\n"
     ]
    }
   ],
   "source": [
    "from datetime import timedelta\n",
    "d1 = datetime.now()\n",
    "d2 = d1 + timedelta(days = 10)\n",
    "print(d2)"
   ]
  },
  {
   "cell_type": "code",
   "execution_count": 12,
   "metadata": {},
   "outputs": [
    {
     "name": "stdout",
     "output_type": "stream",
     "text": [
      "0\n",
      "1\n",
      "2\n",
      "3\n",
      "4\n",
      "5\n",
      "6\n",
      "7\n",
      "8\n",
      "9\n"
     ]
    }
   ],
   "source": [
    "import time\n",
    "for i in range(10):\n",
    "    print(i)\n",
    "    time.sleep(1)"
   ]
  },
  {
   "cell_type": "code",
   "execution_count": 28,
   "metadata": {},
   "outputs": [
    {
     "name": "stdout",
     "output_type": "stream",
     "text": [
      "Ngay mua hang:25/11/2019\n",
      "So ngay chuyen hang toi thieu:5\n",
      "So ngay chuyen hang toi da:10\n",
      "0\n",
      "Thoi gian nhan hang, khoang tu 02/12/2019 den 09/12/2019\n"
     ]
    }
   ],
   "source": [
    "d = input('Ngay mua hang:')\n",
    "t1 = int(input('So ngay chuyen hang toi thieu:'))\n",
    "t2 = int(input('So ngay chuyen hang toi da:'))\n",
    "\n",
    "d = datetime.strptime(d, '%d/%m/%Y')\n",
    "print(d.weekday())\n",
    "# d_min = d + timedelta(days = t1)\n",
    "# d_max = d + timedelta(days = t2)\n",
    "d_min = getDate(d, t1)\n",
    "d_max = getDate(d, t2)\n",
    "d1 = d_min.strftime('%d/%m/%Y')\n",
    "d2 = d_max.strftime('%d/%m/%Y')\n",
    "print(f\"Thoi gian nhan hang, khoang tu {d1} den {d2}\")"
   ]
  },
  {
   "cell_type": "code",
   "execution_count": 27,
   "metadata": {},
   "outputs": [],
   "source": [
    "def getDate(d, t):\n",
    "    while t > 0:\n",
    "        d += timedelta(days = 1)\n",
    "        if d.weekday() <= 4:\n",
    "            t-= 1\n",
    "    return d"
   ]
  },
  {
   "cell_type": "code",
   "execution_count": 24,
   "metadata": {},
   "outputs": [
    {
     "data": {
      "text/plain": [
       "datetime.datetime(2019, 12, 9, 0, 0)"
      ]
     },
     "execution_count": 24,
     "metadata": {},
     "output_type": "execute_result"
    }
   ],
   "source": [
    "getDate(datetime.strptime('25/11/2019', '%d/%m/%Y'), 10)"
   ]
  },
  {
   "cell_type": "code",
   "execution_count": null,
   "metadata": {},
   "outputs": [],
   "source": []
  }
 ],
 "metadata": {
  "kernelspec": {
   "display_name": "Python 3",
   "language": "python",
   "name": "python3"
  },
  "language_info": {
   "codemirror_mode": {
    "name": "ipython",
    "version": 3
   },
   "file_extension": ".py",
   "mimetype": "text/x-python",
   "name": "python",
   "nbconvert_exporter": "python",
   "pygments_lexer": "ipython3",
   "version": "3.6.8"
  }
 },
 "nbformat": 4,
 "nbformat_minor": 2
}
