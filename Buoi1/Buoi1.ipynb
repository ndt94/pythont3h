{
 "cells": [
  {
   "cell_type": "code",
   "execution_count": 1,
   "metadata": {},
   "outputs": [
    {
     "name": "stdout",
     "output_type": "stream",
     "text": [
      "Test\n"
     ]
    }
   ],
   "source": [
    "print(\"Test\")"
   ]
  },
  {
   "cell_type": "code",
   "execution_count": 3,
   "metadata": {},
   "outputs": [
    {
     "data": {
      "text/plain": [
       "'Eric Idle'"
      ]
     },
     "execution_count": 3,
     "metadata": {},
     "output_type": "execute_result"
    }
   ],
   "source": [
    "f\"{'Eric Idle'}\""
   ]
  },
  {
   "cell_type": "code",
   "execution_count": 5,
   "metadata": {},
   "outputs": [
    {
     "data": {
      "text/plain": [
       "'Test'"
      ]
     },
     "execution_count": 5,
     "metadata": {},
     "output_type": "execute_result"
    }
   ],
   "source": [
    "f\"{'Test'}\""
   ]
  },
  {
   "cell_type": "code",
   "execution_count": 11,
   "metadata": {},
   "outputs": [],
   "source": [
    "quang_duong = 10\n",
    "so_ngay = 22\n",
    "gia_xang = 20000\n",
    "so_km_1lit = 50\n",
    "quang_duong_thang = 2 * quang_duong * so_ngay\n",
    "luong_xang_tieuthu = quang_duong_thang / so_km_1lit"
   ]
  },
  {
   "cell_type": "code",
   "execution_count": 13,
   "metadata": {},
   "outputs": [
    {
     "name": "stdout",
     "output_type": "stream",
     "text": [
      "Tiền xăng 1 tháng  176000.0\n"
     ]
    }
   ],
   "source": [
    "tien_xang_thang = luong_xang_tieuthu * gia_xang\n",
    "print(\"Tiền xăng 1 tháng \", tien_xang_thang)"
   ]
  },
  {
   "cell_type": "code",
   "execution_count": 14,
   "metadata": {},
   "outputs": [
    {
     "name": "stdout",
     "output_type": "stream",
     "text": [
      "Nhập x = 10\n",
      "x =  10\n"
     ]
    }
   ],
   "source": [
    "x = input('Nhập x = ')\n",
    "print('x = ', x)"
   ]
  },
  {
   "cell_type": "code",
   "execution_count": 15,
   "metadata": {},
   "outputs": [
    {
     "name": "stdout",
     "output_type": "stream",
     "text": [
      "Nhập y = 15\n",
      "y =  15\n"
     ]
    }
   ],
   "source": [
    "y = input('Nhập y = ')\n",
    "print('y = ', y)"
   ]
  },
  {
   "cell_type": "code",
   "execution_count": 26,
   "metadata": {},
   "outputs": [
    {
     "name": "stdout",
     "output_type": "stream",
     "text": [
      "10 + 15 = 25\n"
     ]
    }
   ],
   "source": [
    "x = int(x)\n",
    "y = int(y)\n",
    "z = x + y\n",
    "print(f\"{x} + {y} = {z}\")"
   ]
  },
  {
   "cell_type": "code",
   "execution_count": 25,
   "metadata": {},
   "outputs": [
    {
     "name": "stdout",
     "output_type": "stream",
     "text": [
      "Nhập tổng = 15\n",
      "Nhập hiệu = 10\n",
      "Số thứ nhất :  12.5\n",
      "Số thứ hai :  2.5\n"
     ]
    }
   ],
   "source": [
    "S = float(input('Nhập tổng = '))\n",
    "D = float(input('Nhập hiệu = '))\n",
    "\n",
    "print('Số thứ nhất : ', (S + D) / 2)\n",
    "print('Số thứ hai : ', (S - D) / 2)"
   ]
  },
  {
   "cell_type": "code",
   "execution_count": 38,
   "metadata": {},
   "outputs": [
    {
     "name": "stdout",
     "output_type": "stream",
     "text": [
      "So tien can rut :550\n",
      "1 to 50k, 1 to 100k, 2 to 200k\n"
     ]
    }
   ],
   "source": [
    "a = input('So tien can rut :')\n",
    "a = int(a)\n",
    "\n",
    "n200k = a // 200\n",
    "a = a % 200\n",
    "n100k = a // 100\n",
    "a = a % 100\n",
    "n50k = a // 50\n",
    "\n",
    "print(f'{n50k} to 50k, {n100k} to 100k, {n200k} to 200k')"
   ]
  },
  {
   "cell_type": "code",
   "execution_count": 44,
   "metadata": {},
   "outputs": [
    {
     "name": "stdout",
     "output_type": "stream",
     "text": [
      "So tien gui ban dau: 100\n",
      "Ky han gui: 3\n",
      "Lai suat ky gui: 4\n",
      "So ky gui: 6\n",
      "So tien duoc nhan:  106\n"
     ]
    }
   ],
   "source": [
    "M = int(input('So tien gui ban dau: '))\n",
    "T = int(input('Ky han gui: '))\n",
    "r = float(input('Lai suat ky gui: '))\n",
    "n = int(input('So ky gui: '))\n",
    "q = 1.0 + (r/100) * (T/12)\n",
    "M = M * (q ** n)\n",
    "print('So tien duoc nhan: ', round(M))"
   ]
  },
  {
   "cell_type": "code",
   "execution_count": null,
   "metadata": {},
   "outputs": [],
   "source": []
  }
 ],
 "metadata": {
  "kernelspec": {
   "display_name": "Python 3",
   "language": "python",
   "name": "python3"
  },
  "language_info": {
   "codemirror_mode": {
    "name": "ipython",
    "version": 3
   },
   "file_extension": ".py",
   "mimetype": "text/x-python",
   "name": "python",
   "nbconvert_exporter": "python",
   "pygments_lexer": "ipython3",
   "version": "3.6.8"
  }
 },
 "nbformat": 4,
 "nbformat_minor": 2
}
