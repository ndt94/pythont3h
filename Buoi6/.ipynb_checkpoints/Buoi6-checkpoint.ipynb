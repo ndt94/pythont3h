{
 "cells": [
  {
   "cell_type": "code",
   "execution_count": 1,
   "metadata": {},
   "outputs": [
    {
     "name": "stdout",
     "output_type": "stream",
     "text": [
      "{1, 3, 4, 5}\n"
     ]
    }
   ],
   "source": [
    "s = {1, 2, 3, 4, 1}\n",
    "s.add(5)\n",
    "s.remove(2)\n",
    "print(s)"
   ]
  },
  {
   "cell_type": "code",
   "execution_count": 2,
   "metadata": {},
   "outputs": [
    {
     "name": "stdout",
     "output_type": "stream",
     "text": [
      "array 1:1,2,3\n",
      "array 2:2,3,4\n",
      "Intersect:  {2, 3}\n",
      "Union:  {1, 2, 3, 4}\n"
     ]
    }
   ],
   "source": [
    "arr1 = input('array 1:')\n",
    "arr2 = input('array 2:')\n",
    "arr1 = arr1.split(',')\n",
    "arr2 = arr2.split(',')\n",
    "\n",
    "s1 = set() # empty set\n",
    "for x in arr1:\n",
    "    s1.add(int(x))\n",
    "s2 = set()\n",
    "for x in arr2:\n",
    "    s2.add(int(x))\n",
    "    \n",
    "intersect = s1.intersection(s2)\n",
    "union = s1.union(s2)\n",
    "\n",
    "print('Intersect: ', intersect)\n",
    "print('Union: ', union)"
   ]
  },
  {
   "cell_type": "code",
   "execution_count": 7,
   "metadata": {},
   "outputs": [
    {
     "name": "stdout",
     "output_type": "stream",
     "text": [
      "English word:one\n",
      "one : mot\n",
      "None\n",
      "6\n",
      "one --> mot\n",
      "two --> hai\n",
      "three --> ba\n",
      "one --> mot\n",
      "two --> hai\n",
      "three --> ba\n"
     ]
    }
   ],
   "source": [
    "d = {\n",
    "    'one': 'mot',\n",
    "    'two': 'hai',\n",
    "    'three': 'ba'\n",
    "}\n",
    "\n",
    "word = input('English word:')\n",
    "if word in d:\n",
    "    print(word, ':', d[word])\n",
    "else:\n",
    "    print('Not found')\n",
    "print(d.get('five'))\n",
    "print(d.get('six', '6'))\n",
    "\n",
    "for key in d:\n",
    "    print(key, '-->', d[key])\n",
    "\n",
    "for k,v in d.items():\n",
    "    print(k, '-->', v)"
   ]
  },
  {
   "cell_type": "code",
   "execution_count": 15,
   "metadata": {},
   "outputs": [
    {
     "name": "stdout",
     "output_type": "stream",
     "text": [
      "1 : 3 lan\n",
      "2 : 2 lan\n",
      "3 : 2 lan\n",
      "4 : 1 lan\n"
     ]
    }
   ],
   "source": [
    "lst = [1,2,1,2,3,1,3,4]\n",
    "\n",
    "counts = {}\n",
    "# for i in lst:\n",
    "#     if i not in counts:\n",
    "#         counts[i] = 1\n",
    "#     else:\n",
    "#         counts[i] += 1\n",
    "for i in lst:\n",
    "    counts[i] = counts.get(i, 0) + 1\n",
    "\n",
    "for k, v in counts.items():\n",
    "    print(k, ':', v, 'lan')"
   ]
  },
  {
   "cell_type": "code",
   "execution_count": 18,
   "metadata": {},
   "outputs": [
    {
     "name": "stdout",
     "output_type": "stream",
     "text": [
      "P1 : 3\n",
      "P2 : 2\n",
      "P3 : 4\n"
     ]
    }
   ],
   "source": [
    "products_sales = [\n",
    "    {'name': 'P1', 'qty': 1},\n",
    "    {'name': 'P2', 'qty': 2},\n",
    "    {'name': 'P3', 'qty': 1},\n",
    "    {'name': 'P1', 'qty': 2},\n",
    "    {'name': 'P3', 'qty': 3}\n",
    "]\n",
    "\n",
    "counts = {}\n",
    "for sale in products_sales:\n",
    "    product_name = sale['name']\n",
    "    qty = sale['qty']\n",
    "    counts[product_name] = counts.get(product_name, 0) + qty\n",
    "    \n",
    "for k, v in counts.items():\n",
    "    print(k, ':', v)"
   ]
  },
  {
   "cell_type": "code",
   "execution_count": 22,
   "metadata": {},
   "outputs": [
    {
     "name": "stdout",
     "output_type": "stream",
     "text": [
      "P1 : 30000\n",
      "P2 : 45000\n",
      "P3 : 60000\n"
     ]
    }
   ],
   "source": [
    "product_sales = [\n",
    "    {'name': 'P1', 'qty': 1, 'price': 10000},\n",
    "    {'name': 'P2', 'qty': 2, 'price': 15000},\n",
    "    {'name': 'P3', 'qty': 3, 'price': 20000},\n",
    "    {'name': 'P2', 'qty': 1, 'price': 15000},\n",
    "    {'name': 'P1', 'qty': 2, 'price': 10000}\n",
    "]\n",
    "\n",
    "sales = {}\n",
    "for product in product_sales:\n",
    "    name = product['name']\n",
    "    price = product['price'] * product['qty']\n",
    "    sales[name] = sales.get(name, 0) + price\n",
    "\n",
    "for k, v in sales.items():\n",
    "    print(k, ':', v)"
   ]
  },
  {
   "cell_type": "code",
   "execution_count": 62,
   "metadata": {},
   "outputs": [
    {
     "name": "stdout",
     "output_type": "stream",
     "text": [
      "0 - 100 P2\n",
      "100 - 200 P1,P3\n",
      "200 - 300 P4\n",
      "300 - 400 P5\n",
      "500 - 600 P6,P7\n"
     ]
    }
   ],
   "source": [
    "products = [\n",
    "    {'name': 'P1', 'price': 100},\n",
    "    {'name': 'P2', 'price': 50},\n",
    "    {'name': 'P3', 'price': 120},\n",
    "    {'name': 'P4', 'price': 220},\n",
    "    {'name': 'P5', 'price': 300},\n",
    "    {'name': 'P6', 'price': 500},\n",
    "    {'name': 'P7', 'price': 550},\n",
    "]\n",
    "\n",
    "groups = {}\n",
    "for product in products:\n",
    "    name = product['name']\n",
    "    price = product['price']\n",
    "    K = price // 100\n",
    "    groups[K] = groups.get(K, []) + [name]\n",
    "\n",
    "items = sorted(groups.items())\n",
    "\n",
    "for k, v in items:\n",
    "    print(f\"{100 * k } - {100 * k + 100} {','.join(v)}\")\n"
   ]
  },
  {
   "cell_type": "code",
   "execution_count": 68,
   "metadata": {},
   "outputs": [
    {
     "name": "stdout",
     "output_type": "stream",
     "text": [
      "Array 1:1,2,3\n",
      "Array 2:2,3,4\n",
      "Intersect:  {2, 3}\n",
      "Union  {1, 2, 3, 4}\n"
     ]
    }
   ],
   "source": [
    "def arr_to_set(arr):\n",
    "    arr = arr.split(',')\n",
    "    s = set()\n",
    "    for x in arr:\n",
    "        s.add(int(x))\n",
    "    return s\n",
    "arr1 = input('Array 1:')\n",
    "s1 = arr_to_set(arr1)\n",
    "\n",
    "\n",
    "arr2 = input('Array 2:')\n",
    "s2 = arr_to_set(arr2)\n",
    "\n",
    "\n",
    "intersect = s1.intersection(s2)\n",
    "union = s1.union(s2)\n",
    "\n",
    "print('Intersect: ', intersect)\n",
    "print('Union ', union)"
   ]
  },
  {
   "cell_type": "code",
   "execution_count": 69,
   "metadata": {},
   "outputs": [
    {
     "name": "stdout",
     "output_type": "stream",
     "text": [
      "5\n"
     ]
    }
   ],
   "source": [
    "def add(a,b):\n",
    "    '''\n",
    "    Ham tim tong cua 2 so:\n",
    "    - Input\n",
    "        + a: So thu nhat\n",
    "        + b: So thu hai\n",
    "    - Output:\n",
    "        + Tong 2 so\n",
    "    '''\n",
    "    s = a + b\n",
    "    return s\n",
    "\n",
    "print(add(2,3))"
   ]
  },
  {
   "cell_type": "code",
   "execution_count": 74,
   "metadata": {},
   "outputs": [
    {
     "name": "stdout",
     "output_type": "stream",
     "text": [
      "Area: 20\n",
      "Perimeter: 18\n"
     ]
    }
   ],
   "source": [
    "def calcAreaAndPerimeter(w, h):\n",
    "    area = w * h\n",
    "    perimeter = 2 * (w + h)\n",
    "    return area, perimeter\n",
    "S, P = calcAreaAndPerimeter(4,5)\n",
    "print('Area:', S)\n",
    "print('Perimeter:', P)"
   ]
  },
  {
   "cell_type": "code",
   "execution_count": 76,
   "metadata": {},
   "outputs": [
    {
     "name": "stdout",
     "output_type": "stream",
     "text": [
      "128 Ho Tung Mau,Ha Noi,Vietnam\n"
     ]
    }
   ],
   "source": [
    "def getAddress(street, city='Ha Noi', country='Vietnam'):\n",
    "    return street + ',' + city + ',' + country\n",
    "\n",
    "add1 = getAddress('128 Ho Tung Mau')\n",
    "print(add1)"
   ]
  },
  {
   "cell_type": "code",
   "execution_count": 80,
   "metadata": {},
   "outputs": [
    {
     "name": "stdout",
     "output_type": "stream",
     "text": [
      "[(4, 1), (5, 2), (1, 3), (2, 4), (3, 5)]\n"
     ]
    }
   ],
   "source": [
    "lst = [(1,3), (5,2), (2,4), (4,1), (3,5)]\n",
    "def f(item):\n",
    "    return item[1]\n",
    "\n",
    "lst = sorted(lst, key=f)\n",
    "lst = sorted(lst, key=lambda x:x[1])\n",
    "print(lst)"
   ]
  },
  {
   "cell_type": "code",
   "execution_count": null,
   "metadata": {},
   "outputs": [],
   "source": [
    "st = input('O chu:')\n",
    "c1 = input('Chu cai thu 1:')\n",
    "c2 = input('Chu cai thu 2:')\n",
    "c3 = input('Chu cai thu 3:')\n",
    "\n",
    "def "
   ]
  }
 ],
 "metadata": {
  "kernelspec": {
   "display_name": "Python 3",
   "language": "python",
   "name": "python3"
  },
  "language_info": {
   "codemirror_mode": {
    "name": "ipython",
    "version": 3
   },
   "file_extension": ".py",
   "mimetype": "text/x-python",
   "name": "python",
   "nbconvert_exporter": "python",
   "pygments_lexer": "ipython3",
   "version": "3.6.8"
  }
 },
 "nbformat": 4,
 "nbformat_minor": 2
}
