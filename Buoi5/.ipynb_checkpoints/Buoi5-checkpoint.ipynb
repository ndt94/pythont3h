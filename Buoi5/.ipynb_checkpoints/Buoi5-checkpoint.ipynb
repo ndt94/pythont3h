{
 "cells": [
  {
   "cell_type": "code",
   "execution_count": 2,
   "metadata": {},
   "outputs": [
    {
     "name": "stdout",
     "output_type": "stream",
     "text": [
      "[1, 2, 3, 4, 6, 7]\n"
     ]
    }
   ],
   "source": [
    "a = [1,2,3,4,6]\n",
    "a.append(7)\n",
    "print(a)"
   ]
  },
  {
   "cell_type": "code",
   "execution_count": 3,
   "metadata": {},
   "outputs": [
    {
     "name": "stdout",
     "output_type": "stream",
     "text": [
      "[1, 2, 3, 4, 7]\n"
     ]
    }
   ],
   "source": [
    "a.remove(6)\n",
    "print(a)"
   ]
  },
  {
   "cell_type": "code",
   "execution_count": 5,
   "metadata": {},
   "outputs": [
    {
     "name": "stdout",
     "output_type": "stream",
     "text": [
      "[1, 2, 3, 4, 5, 6]\n",
      "[1, 1, 1, 1, 1]\n"
     ]
    }
   ],
   "source": [
    "l1 = [1,2,3]\n",
    "l2 = [4,5,6]\n",
    "print(l1 + l2)\n",
    "l3 = [1] * 5\n",
    "print(l3)"
   ]
  },
  {
   "cell_type": "code",
   "execution_count": 7,
   "metadata": {},
   "outputs": [
    {
     "name": "stdout",
     "output_type": "stream",
     "text": [
      "[2, 10, 12]\n"
     ]
    }
   ],
   "source": [
    "lst = [1,2,3,5,7,9,10,12]\n",
    "# result = []\n",
    "# for x in lst:\n",
    "#     if x % 2 == 0:\n",
    "#         result.append(x)\n",
    "result = [x for x in lst if x % 2 == 0] # List comprehension\n",
    "print(result)"
   ]
  },
  {
   "cell_type": "code",
   "execution_count": 8,
   "metadata": {},
   "outputs": [
    {
     "name": "stdout",
     "output_type": "stream",
     "text": [
      "[2, 4, 5]\n"
     ]
    }
   ],
   "source": [
    "lst1 = [1,2,3,4,5,6]\n",
    "lst2 = [2,4,7,8,9,5]\n",
    "\n",
    "result = [x for x in lst1 if x in lst2]\n",
    "print(result)"
   ]
  },
  {
   "cell_type": "code",
   "execution_count": 12,
   "metadata": {},
   "outputs": [
    {
     "name": "stdout",
     "output_type": "stream",
     "text": [
      "[1, 2, 3, 5]\n"
     ]
    }
   ],
   "source": [
    "lst = [1,2,3,4,4,5,4]\n",
    "a = 4\n",
    "result = [i for i in lst if i != a]\n",
    "print(result)\n"
   ]
  },
  {
   "cell_type": "code",
   "execution_count": 16,
   "metadata": {},
   "outputs": [
    {
     "name": "stdout",
     "output_type": "stream",
     "text": [
      "2\n"
     ]
    }
   ],
   "source": [
    "lst1 = [0, 10, 20, 30]\n",
    "lst2 = [2,4,6,15]\n",
    "\n",
    "dmin = float('inf')\n",
    "for i in lst1:\n",
    "    for j in lst2:\n",
    "        d = abs(i - j)\n",
    "        if d < dmin:\n",
    "            dmin = d\n",
    "print(dmin)"
   ]
  },
  {
   "cell_type": "code",
   "execution_count": 18,
   "metadata": {},
   "outputs": [
    {
     "name": "stdout",
     "output_type": "stream",
     "text": [
      "4.242640687119285\n"
     ]
    }
   ],
   "source": [
    "point1 = (-2, -1)\n",
    "point2 = (1, 2)\n",
    "\n",
    "x1, y1 = point1\n",
    "x2, y2 = point2\n",
    "d2 = (x2 - x1) ** 2 + (y2 - y1) ** 2\n",
    "import math\n",
    "d = math.sqrt(d2)\n",
    "print(d)"
   ]
  },
  {
   "cell_type": "code",
   "execution_count": 22,
   "metadata": {},
   "outputs": [
    {
     "name": "stdout",
     "output_type": "stream",
     "text": [
      "8.22677276241436\n"
     ]
    }
   ],
   "source": [
    "points = [(1,1), (2,3), (3,2), (4,5), (5,4)]\n",
    "N = len(points)\n",
    "total = 0\n",
    "for i in range(N-1):\n",
    "    x1, y1 = points[i]\n",
    "    x2, y2 = points[i + 1]\n",
    "    d = ((x2 - x1) ** 2 + (y2-y1) ** 2) ** 0.5\n",
    "    total += d\n",
    "print(total)"
   ]
  },
  {
   "cell_type": "code",
   "execution_count": 23,
   "metadata": {},
   "outputs": [
    {
     "name": "stdout",
     "output_type": "stream",
     "text": [
      "[1, 2, 3, 4, 5, 8]\n",
      "[1, 3, 2, 5, 4, 8]\n",
      "[8, 5, 4, 3, 2, 1]\n"
     ]
    }
   ],
   "source": [
    "lst = [1,3,2,5,4,8]\n",
    "print(sorted(lst))\n",
    "print(lst)\n",
    "print(sorted(lst, reverse=True))"
   ]
  },
  {
   "cell_type": "code",
   "execution_count": 28,
   "metadata": {},
   "outputs": [
    {
     "name": "stdout",
     "output_type": "stream",
     "text": [
      "[('P1', 10000, 1), ('P4', 12500, 3), ('P2', 15000, 5), ('P3', 20000, 2)]\n",
      "P1 10000\n",
      "P4 12500\n",
      "P2 15000\n",
      "P3 20000\n"
     ]
    }
   ],
   "source": [
    "products = [\n",
    "    ('P1', 10000, 1),\n",
    "    ('P2', 15000, 5),\n",
    "    ('P3', 20000, 2),\n",
    "    ('P4', 12500, 3)\n",
    "]\n",
    "\n",
    "products = sorted(products, key=lambda p:p[1])\n",
    "print(products)\n",
    "for name, price, quan in products:\n",
    "    print(name, price)"
   ]
  },
  {
   "cell_type": "code",
   "execution_count": 33,
   "metadata": {},
   "outputs": [
    {
     "name": "stdout",
     "output_type": "stream",
     "text": [
      "[('P2', 1.5)]\n",
      "[('P1', 2.5), ('P3', 3.0)]\n",
      "[('P4', 4.0), ('P6', 4.2)]\n",
      "[('P5', 4.7)]\n"
     ]
    }
   ],
   "source": [
    "products = [\n",
    "    ('P1', 2.5),\n",
    "    ('P2', 1.5),\n",
    "    ('P3', 3.0),\n",
    "    ('P4', 4.0),\n",
    "    ('P5', 4.7),\n",
    "    ('P6', 4.2)\n",
    "]\n",
    "bad_products = [p for p in products if p[1] < 2.5]\n",
    "average_products = [p for p in products if 2.5 <= p[1] < 3.5]\n",
    "good_products = [p for p in products if 3.5 <= p[1] < 4.5]\n",
    "very_good_products = [p for p in products if 4.5 <= p[1] < 5]\n",
    "print(bad_products)\n",
    "print(average_products)\n",
    "print(good_products)\n",
    "print(very_good_products)"
   ]
  },
  {
   "cell_type": "code",
   "execution_count": 42,
   "metadata": {},
   "outputs": [
    {
     "name": "stdout",
     "output_type": "stream",
     "text": [
      "[1, 2, 3, 4]\n",
      "[5, 4, 3, 1]\n",
      "[(1, 5), (2, 4), (3, 3), (4, 1)]\n"
     ]
    }
   ],
   "source": [
    "lst = [1,2,1,3,2,1,3,4,1,2,3,2,1]\n",
    "ids = []\n",
    "counts = []\n",
    "\n",
    "for id in lst:\n",
    "    if id in ids:\n",
    "        i = ids.index(id)\n",
    "        counts[i] += 1\n",
    "    else:\n",
    "        ids.append(id)\n",
    "        counts.append(1)\n",
    "print(ids)\n",
    "print(counts)\n",
    "\n",
    "items = []\n",
    "# for i, id in enumerate(ids):\n",
    "#     items.append((id, counts[i]))\n",
    "items = zip(ids, counts)\n",
    "items = sorted(items, reverse=True, key=lambda x:x[1])\n",
    "print(items)"
   ]
  },
  {
   "cell_type": "code",
   "execution_count": 59,
   "metadata": {},
   "outputs": [
    {
     "name": "stdout",
     "output_type": "stream",
     "text": [
      "x=15\n",
      "Muoi lam\n"
     ]
    }
   ],
   "source": [
    "bangso = ['khong', 'mot', 'hai', 'ba', 'bon', 'nam', 'sau', 'bay', 'tam', 'chin', 'muoi']\n",
    "x = int(input('x='))\n",
    "if x <= 10:\n",
    "    print(bangso[x])\n",
    "else:\n",
    "    chuc = x//10\n",
    "    donvi = x % 10\n",
    "    if chuc == 1:\n",
    "        donvi_st = bangso[donvi]\n",
    "        if donvi == 5:\n",
    "            donvi_st = 'lam'\n",
    "        print(f'Muoi {donvi_st}')\n",
    "    else:\n",
    "        if donvi == 5:\n",
    "            donvi_st = 'lam'\n",
    "        elif donvi == 1:\n",
    "            donvi_st = 'mots'\n",
    "        print(f'{bangso[chuc]} muoi {bangso[donvi]}')"
   ]
  },
  {
   "cell_type": "code",
   "execution_count": null,
   "metadata": {},
   "outputs": [],
   "source": []
  },
  {
   "cell_type": "code",
   "execution_count": null,
   "metadata": {},
   "outputs": [],
   "source": []
  }
 ],
 "metadata": {
  "kernelspec": {
   "display_name": "Python 3",
   "language": "python",
   "name": "python3"
  },
  "language_info": {
   "codemirror_mode": {
    "name": "ipython",
    "version": 3
   },
   "file_extension": ".py",
   "mimetype": "text/x-python",
   "name": "python",
   "nbconvert_exporter": "python",
   "pygments_lexer": "ipython3",
   "version": "3.6.8"
  }
 },
 "nbformat": 4,
 "nbformat_minor": 2
}
