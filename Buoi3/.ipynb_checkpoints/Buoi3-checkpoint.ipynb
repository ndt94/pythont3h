{
 "cells": [
  {
   "cell_type": "code",
   "execution_count": 1,
   "metadata": {},
   "outputs": [
    {
     "name": "stdout",
     "output_type": "stream",
     "text": [
      "1 * 1 = 1\n",
      "2 * 2 = 4\n",
      "3 * 3 = 9\n",
      "4 * 4 = 16\n",
      "5 * 5 = 25\n",
      "6 * 6 = 36\n",
      "7 * 7 = 49\n",
      "8 * 8 = 64\n",
      "9 * 9 = 81\n",
      "10 * 10 = 100\n"
     ]
    }
   ],
   "source": [
    "for i in range(1, 11):\n",
    "    print(f'{i} * {i} = {i*i}')"
   ]
  },
  {
   "cell_type": "code",
   "execution_count": 2,
   "metadata": {
    "scrolled": true
   },
   "outputs": [
    {
     "name": "stdout",
     "output_type": "stream",
     "text": [
      "0 * 0 = 0\n",
      "2 * 2 = 4\n",
      "4 * 4 = 16\n",
      "6 * 6 = 36\n",
      "8 * 8 = 64\n",
      "10 * 10 = 100\n"
     ]
    }
   ],
   "source": [
    "for i in range(0, 11, 2):\n",
    "    print(f'{i} * {i} = {i*i}')"
   ]
  },
  {
   "cell_type": "code",
   "execution_count": 3,
   "metadata": {},
   "outputs": [
    {
     "name": "stdout",
     "output_type": "stream",
     "text": [
      "2 * 2 = 4\n",
      "2 * 3 = 6\n",
      "2 * 4 = 8\n",
      "2 * 5 = 10\n",
      "2 * 6 = 12\n",
      "2 * 7 = 14\n",
      "2 * 8 = 16\n",
      "2 * 9 = 18\n",
      "2 * 10 = 20\n",
      "3 * 2 = 6\n",
      "3 * 3 = 9\n",
      "3 * 4 = 12\n",
      "3 * 5 = 15\n",
      "3 * 6 = 18\n",
      "3 * 7 = 21\n",
      "3 * 8 = 24\n",
      "3 * 9 = 27\n",
      "3 * 10 = 30\n",
      "4 * 2 = 8\n",
      "4 * 3 = 12\n",
      "4 * 4 = 16\n",
      "4 * 5 = 20\n",
      "4 * 6 = 24\n",
      "4 * 7 = 28\n",
      "4 * 8 = 32\n",
      "4 * 9 = 36\n",
      "4 * 10 = 40\n",
      "5 * 2 = 10\n",
      "5 * 3 = 15\n",
      "5 * 4 = 20\n",
      "5 * 5 = 25\n",
      "5 * 6 = 30\n",
      "5 * 7 = 35\n",
      "5 * 8 = 40\n",
      "5 * 9 = 45\n",
      "5 * 10 = 50\n",
      "6 * 2 = 12\n",
      "6 * 3 = 18\n",
      "6 * 4 = 24\n",
      "6 * 5 = 30\n",
      "6 * 6 = 36\n",
      "6 * 7 = 42\n",
      "6 * 8 = 48\n",
      "6 * 9 = 54\n",
      "6 * 10 = 60\n",
      "7 * 2 = 14\n",
      "7 * 3 = 21\n",
      "7 * 4 = 28\n",
      "7 * 5 = 35\n",
      "7 * 6 = 42\n",
      "7 * 7 = 49\n",
      "7 * 8 = 56\n",
      "7 * 9 = 63\n",
      "7 * 10 = 70\n",
      "8 * 2 = 16\n",
      "8 * 3 = 24\n",
      "8 * 4 = 32\n",
      "8 * 5 = 40\n",
      "8 * 6 = 48\n",
      "8 * 7 = 56\n",
      "8 * 8 = 64\n",
      "8 * 9 = 72\n",
      "8 * 10 = 80\n",
      "9 * 2 = 18\n",
      "9 * 3 = 27\n",
      "9 * 4 = 36\n",
      "9 * 5 = 45\n",
      "9 * 6 = 54\n",
      "9 * 7 = 63\n",
      "9 * 8 = 72\n",
      "9 * 9 = 81\n",
      "9 * 10 = 90\n",
      "10 * 2 = 20\n",
      "10 * 3 = 30\n",
      "10 * 4 = 40\n",
      "10 * 5 = 50\n",
      "10 * 6 = 60\n",
      "10 * 7 = 70\n",
      "10 * 8 = 80\n",
      "10 * 9 = 90\n",
      "10 * 10 = 100\n"
     ]
    }
   ],
   "source": [
    "for i in range(2, 11):\n",
    "    for j in range(2, 11):\n",
    "        print(f'{i} * {j} = {i*j}')"
   ]
  },
  {
   "cell_type": "code",
   "execution_count": 10,
   "metadata": {},
   "outputs": [
    {
     "name": "stdout",
     "output_type": "stream",
     "text": [
      "Dan so nam 2017 la: 95.6\n",
      "Dan so nam 2018 la: 96.56\n",
      "Dan so nam 2019 la: 97.52\n",
      "Dan so nam 2020 la: 98.5\n",
      "Dan so nam 2021 la: 99.48\n",
      "Dan so nam 2022 la: 100.48\n",
      "Dan so nam 2023 la: 101.48\n",
      "Dan so nam 2024 la: 102.5\n",
      "Dan so nam 2025 la: 103.52\n",
      "Dan so nam 2026 la: 104.56\n",
      "Dan so nam 2027 la: 105.6\n",
      "Dan so nam 2028 la: 106.66\n",
      "Dan so nam 2029 la: 107.72\n",
      "Dan so nam 2030 la: 108.8\n"
     ]
    }
   ],
   "source": [
    "danso = 95.6 # 2017\n",
    "tocdo_tang = 1 # %\n",
    "\n",
    "for i in range (2017, 2031):\n",
    "    print(f'Dan so nam {i} la: {round(danso, 2)}')\n",
    "    danso += danso *  tocdo_tang / 100\n"
   ]
  },
  {
   "cell_type": "code",
   "execution_count": 52,
   "metadata": {},
   "outputs": [
    {
     "name": "stdout",
     "output_type": "stream",
     "text": [
      "So tien sau thang 1 la 110.83\n",
      "So tien sau thang 2 la 121.76\n",
      "So tien sau thang 3 la 132.77\n",
      "So tien sau thang 4 la 143.88\n",
      "So tien sau thang 5 la 155.08\n",
      "So tien sau thang 6 la 166.37\n",
      "So tien sau thang 7 la 177.76\n",
      "So tien sau thang 8 la 189.24\n",
      "So tien sau thang 9 la 200.81\n",
      "So tien sau thang 10 la 212.49\n",
      "So tien sau thang 11 la 224.26\n",
      "So tien sau thang 12 la 236.13\n",
      "So tien sau thang 13 la 248.09\n",
      "So tien sau thang 14 la 260.16\n",
      "So tien sau thang 15 la 272.33\n",
      "So tien sau thang 16 la 284.6\n",
      "So tien sau thang 17 la 296.97\n",
      "So tien sau thang 18 la 309.45\n",
      "So tien sau thang 19 la 322.02\n",
      "So tien sau thang 20 la 334.71\n",
      "So tien sau thang 21 la 347.5\n",
      "So tien sau thang 22 la 360.39\n",
      "So tien sau thang 23 la 373.4\n",
      "So tien sau thang 24 la 386.51\n",
      "Sau 33 thang thi co 509.5407331780599 trieu\n"
     ]
    }
   ],
   "source": [
    "M = 100 # So tien ban dau\n",
    "M1 = 100\n",
    "r = 10 # %/nam\n",
    "m = 10 # so tien gui them moi thang\n",
    "t = 0\n",
    "for i in range (1, 25):\n",
    "    M += M * r/1200 + m\n",
    "    print(f'So tien sau thang {i} la {round(M, 2)}')\n",
    "\n",
    "while M1 < 500:\n",
    "    t += 1\n",
    "    M1 += M1 * r/1200 + m\n",
    "print(f'Sau {t} thang thi co {M1} trieu')"
   ]
  },
  {
   "cell_type": "code",
   "execution_count": 15,
   "metadata": {},
   "outputs": [
    {
     "name": "stdout",
     "output_type": "stream",
     "text": [
      "1\n",
      "3\n",
      "4\n",
      "True\n"
     ]
    }
   ],
   "source": [
    "a = [1,3,4,5,7,9]\n",
    "N = len(a)\n",
    "tontai_sochan = False\n",
    "\n",
    "for i in range(N):\n",
    "    print(a[i])\n",
    "    if a[i] % 2 == 0:\n",
    "        tontai_sochan = True\n",
    "        break\n",
    "print(tontai_sochan)"
   ]
  },
  {
   "cell_type": "code",
   "execution_count": 22,
   "metadata": {},
   "outputs": [
    {
     "name": "stdout",
     "output_type": "stream",
     "text": [
      "4\n"
     ]
    }
   ],
   "source": [
    "for i in range(N):\n",
    "    if a[i] % 2 != 0:\n",
    "        continue\n",
    "    if a[i] <= 3:\n",
    "        continue\n",
    "    print(a[i])"
   ]
  },
  {
   "cell_type": "code",
   "execution_count": 17,
   "metadata": {},
   "outputs": [
    {
     "name": "stdout",
     "output_type": "stream",
     "text": [
      "So lon nhat:  7\n"
     ]
    }
   ],
   "source": [
    "b = [2, 3, 4, 1, 6, 7, 4]\n",
    "imax = 0\n",
    "N = len(b)\n",
    "\n",
    "for i in range(N):\n",
    "    if b[i] > a[imax]:\n",
    "        imax = i\n",
    "\n",
    "print('So lon nhat: ', a[imax])"
   ]
  },
  {
   "cell_type": "code",
   "execution_count": 27,
   "metadata": {},
   "outputs": [
    {
     "name": "stdout",
     "output_type": "stream",
     "text": [
      "True\n"
     ]
    }
   ],
   "source": [
    "c = [1,2,3,4,5,4]\n",
    "N = len(c)\n",
    "existed = False\n",
    "for i in range(N):\n",
    "    for j in range(i+1, N):\n",
    "        if c[i] == c[j]:\n",
    "            existed = True\n",
    "            break\n",
    "    if existed: break\n",
    "\n",
    "print(existed)"
   ]
  },
  {
   "cell_type": "code",
   "execution_count": 47,
   "metadata": {},
   "outputs": [
    {
     "name": "stdout",
     "output_type": "stream",
     "text": [
      "1 + 2 = 3\n",
      "1 + 3 = 4\n",
      "1 + 4 = 5\n",
      "2 + 3 = 5\n"
     ]
    }
   ],
   "source": [
    "d = [1,2,3,4,5]\n",
    "# Tim cac so bang tong cua 2 so khac trong day\n",
    "for i in range(len(d)):\n",
    "    for j in range(i+1, len(d)):\n",
    "        if d[i] + d[j] in d:\n",
    "            print(f'{d[i]} + {d[j]} = {d[i] + d[j]}')"
   ]
  },
  {
   "cell_type": "code",
   "execution_count": 48,
   "metadata": {},
   "outputs": [
    {
     "name": "stdout",
     "output_type": "stream",
     "text": [
      "2026 120.18478455410994\n"
     ]
    }
   ],
   "source": [
    "danso_1 = 95.5\n",
    "tocdo_tang = 1\n",
    "year = 2017\n",
    "\n",
    "while danso < 120:\n",
    "    year += 1\n",
    "    danso += danso * tocdo_tang / 100\n",
    "\n",
    "print(year, danso)"
   ]
  },
  {
   "cell_type": "code",
   "execution_count": 54,
   "metadata": {},
   "outputs": [
    {
     "name": "stdout",
     "output_type": "stream",
     "text": [
      "Y: 120\n",
      "16 136\n"
     ]
    }
   ],
   "source": [
    "Y = int(input('Y: '))\n",
    "# Tim K nho nhat de 1+2+...+K > Y\n",
    "S = 0\n",
    "K = 0\n",
    "while S <= Y:\n",
    "    K += 1\n",
    "    S += K\n",
    "print(K, S)"
   ]
  },
  {
   "cell_type": "code",
   "execution_count": 60,
   "metadata": {},
   "outputs": [
    {
     "name": "stdout",
     "output_type": "stream",
     "text": [
      "Nhap x: 2\n",
      "Nhap y: 3\n",
      "2 + 3 = 5\n",
      "Tiep tuc(C/K): k\n"
     ]
    }
   ],
   "source": [
    "running = True\n",
    "while running:\n",
    "    x = (input('Nhap x: '))\n",
    "    if not x.isdigit():\n",
    "        print('Yeu cau nhap so nguyen: ')\n",
    "        continue\n",
    "        \n",
    "    y = (input('Nhap y: '))\n",
    "    if not y.isdigit():\n",
    "        print('Yeu cau nhap so nguyen')\n",
    "        continue\n",
    "        \n",
    "    x = int(x)\n",
    "    y = int(y)\n",
    "    z = x + y\n",
    "    print(f'{x} + {y} = {z}')\n",
    "    \n",
    "    c = input('Tiep tuc(C/K): ')\n",
    "    running = c == 'C'"
   ]
  },
  {
   "cell_type": "code",
   "execution_count": 3,
   "metadata": {},
   "outputs": [
    {
     "name": "stdout",
     "output_type": "stream",
     "text": [
      "So nuoc: 320\n",
      "10 so o muc gia 6K : 60K\n",
      "10 so o muc gia 7K : 70K\n",
      "10 so o muc gia 9K : 90K\n",
      "290 so o muc gia 16K : 4640K\n",
      "4860\n"
     ]
    }
   ],
   "source": [
    "sonuoc = int(input('So nuoc: '))\n",
    "muc_gia = [6, 7, 9, 16]\n",
    "\n",
    "sotien = 0\n",
    "i = 0\n",
    "while sonuoc > 0:\n",
    "    if i < len(muc_gia) - 1:\n",
    "        x = min(sonuoc, 10)\n",
    "    else:\n",
    "        x = sonuoc\n",
    "    sotien += x * muc_gia[i]\n",
    "    print(f'{x} so o muc gia {muc_gia[i]}K : {x * muc_gia[i]}K')\n",
    "    sonuoc -= x\n",
    "    i += 1\n",
    "    \n",
    "    \n",
    "    \n",
    "print(sotien)"
   ]
  },
  {
   "cell_type": "code",
   "execution_count": null,
   "metadata": {},
   "outputs": [],
   "source": []
  }
 ],
 "metadata": {
  "kernelspec": {
   "display_name": "Python 3",
   "language": "python",
   "name": "python3"
  },
  "language_info": {
   "codemirror_mode": {
    "name": "ipython",
    "version": 3
   },
   "file_extension": ".py",
   "mimetype": "text/x-python",
   "name": "python",
   "nbconvert_exporter": "python",
   "pygments_lexer": "ipython3",
   "version": "3.6.8"
  }
 },
 "nbformat": 4,
 "nbformat_minor": 2
}
