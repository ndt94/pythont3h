{
 "cells": [
  {
   "cell_type": "code",
   "execution_count": 2,
   "metadata": {},
   "outputs": [
    {
     "name": "stdout",
     "output_type": "stream",
     "text": [
      "[{\"name\": \"Nguyen Van A\", \"address\": \"Ha Noi\"}, {\"name\": \"Nguyen Van B\", \"address\": \"TP.HCM\"}]\n"
     ]
    }
   ],
   "source": [
    "import json\n",
    "\n",
    "person = [\n",
    "    {'name': 'Nguyen Van A', 'address': 'Ha Noi'},\n",
    "    {'name': 'Nguyen Van B', 'address': 'TP.HCM'}\n",
    "]\n",
    "\n",
    "jsonString = json.dumps(person)\n",
    "print(jsonString)"
   ]
  },
  {
   "cell_type": "code",
   "execution_count": 3,
   "metadata": {},
   "outputs": [
    {
     "name": "stdout",
     "output_type": "stream",
     "text": [
      "Nguyen Van A Ha Noi\n"
     ]
    }
   ],
   "source": [
    "lst = json.loads(jsonString)\n",
    "print(lst[0]['name'], lst[0]['address'])"
   ]
  },
  {
   "cell_type": "code",
   "execution_count": 8,
   "metadata": {},
   "outputs": [
    {
     "name": "stdout",
     "output_type": "stream",
     "text": [
      "{\"name\": \"Nguyen Van A\", \"address\": \"Ha Noi\"}\n",
      "Nguyen Van A Ha Noi\n"
     ]
    },
    {
     "data": {
      "text/plain": [
       "False"
      ]
     },
     "execution_count": 8,
     "metadata": {},
     "output_type": "execute_result"
    }
   ],
   "source": [
    "class Person:\n",
    "    def __init__(self, name, address):\n",
    "        self.name = name\n",
    "        self.address = address\n",
    "    \n",
    "    def toJson(self):\n",
    "#         return json.dumps({'name': self.name, 'address': self.address})\n",
    "        return json.dumps(self.__dict__)\n",
    "    \n",
    "    def fromJson(js):\n",
    "        obj = json.loads(js)\n",
    "        return Person(obj['name'], obj['address'])\n",
    "\n",
    "p = Person('Nguyen Van A', 'Ha Noi')\n",
    "js = p.toJson()\n",
    "print(js)\n",
    "p2 = Person.fromJson(js)\n",
    "print(p2.name, p2.address)\n",
    "p == p2"
   ]
  },
  {
   "cell_type": "code",
   "execution_count": null,
   "metadata": {},
   "outputs": [],
   "source": []
  }
 ],
 "metadata": {
  "kernelspec": {
   "display_name": "Python 3",
   "language": "python",
   "name": "python3"
  },
  "language_info": {
   "codemirror_mode": {
    "name": "ipython",
    "version": 3
   },
   "file_extension": ".py",
   "mimetype": "text/x-python",
   "name": "python",
   "nbconvert_exporter": "python",
   "pygments_lexer": "ipython3",
   "version": "3.6.8"
  }
 },
 "nbformat": 4,
 "nbformat_minor": 2
}
