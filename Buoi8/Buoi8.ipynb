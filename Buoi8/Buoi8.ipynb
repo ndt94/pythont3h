{
 "cells": [
  {
   "cell_type": "code",
   "execution_count": 11,
   "metadata": {},
   "outputs": [
    {
     "name": "stdout",
     "output_type": "stream",
     "text": [
      "VNPK 5x200 2\n",
      "VNPK 5x200\n"
     ]
    }
   ],
   "source": [
    "class Product:\n",
    "    def __init__(self, code, name, price):\n",
    "        self.code = code\n",
    "        self.name = name\n",
    "        self.price = price\n",
    "        \n",
    "    def getName(self):\n",
    "        return self.name\n",
    "    \n",
    "    def setName(self, name):\n",
    "        self.name = name\n",
    "\n",
    "class Sale:\n",
    "    def __init__(self, product, qty):\n",
    "        self.product = product\n",
    "        self.qty = qty\n",
    "\n",
    "class Basket:\n",
    "    def __init__ (self, sales, date):\n",
    "        self.sales = sales\n",
    "        self.date = date\n",
    "        \n",
    "p = Product('P001', 'Sua Vinamilk 5x200ml', 27000)\n",
    "p2 = p\n",
    "p2.setName('VNPK 5x200')\n",
    "s = Sale(p, 2)\n",
    "print(s.product.name, s.qty)\n",
    "basket = Basket([s], '2019-11-09')\n",
    "print(basket.sales[0].product.name)\n",
    "# print(p.code, p.name, p.price)\n",
    "# print(p.getName())\n",
    "# p.setName('VNK 5x200ml')\n",
    "# print(p.getName())"
   ]
  },
  {
   "cell_type": "code",
   "execution_count": 26,
   "metadata": {},
   "outputs": [
    {
     "name": "stdout",
     "output_type": "stream",
     "text": [
      "Trung @ 123 Ba Dinh,Ha Noi\n",
      "Trung\n"
     ]
    }
   ],
   "source": [
    "class Address:\n",
    "    def __init__(self, street, city):\n",
    "        self.street = street\n",
    "        self.city = city\n",
    "    \n",
    "    def __str__(self):\n",
    "        return self.street + ',' + self.city\n",
    "    \n",
    "class Person:\n",
    "    def __init__(self, name, address):\n",
    "        self.name = name\n",
    "        self.address = address\n",
    "    \n",
    "    def introduce(self):\n",
    "        print(self.name, '@', self.address)\n",
    "    \n",
    "    def __str__(self):\n",
    "        return self.name\n",
    "\n",
    "class Student(Person):\n",
    "    def __init__(self, name, address, course):\n",
    "        self.name = name\n",
    "        self.address(address)\n",
    "        self.course = course\n",
    "addr1 = Address('123 Ba Dinh', 'Ha Noi')\n",
    "person = Person('Trung', addr1)\n",
    "person.introduce()\n",
    "print(person)"
   ]
  },
  {
   "cell_type": "code",
   "execution_count": null,
   "metadata": {},
   "outputs": [],
   "source": []
  }
 ],
 "metadata": {
  "kernelspec": {
   "display_name": "Python 3",
   "language": "python",
   "name": "python3"
  },
  "language_info": {
   "codemirror_mode": {
    "name": "ipython",
    "version": 3
   },
   "file_extension": ".py",
   "mimetype": "text/x-python",
   "name": "python",
   "nbconvert_exporter": "python",
   "pygments_lexer": "ipython3",
   "version": "3.6.8"
  }
 },
 "nbformat": 4,
 "nbformat_minor": 2
}
