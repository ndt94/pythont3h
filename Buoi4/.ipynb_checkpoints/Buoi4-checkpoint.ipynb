{
 "cells": [
  {
   "cell_type": "code",
   "execution_count": 5,
   "metadata": {},
   "outputs": [
    {
     "name": "stdout",
     "output_type": "stream",
     "text": [
      "Ho: Nguyen\n",
      "Ten dem: Duc\n",
      "Ten: Trung\n",
      "Ho va ten: Nguyen Duc Trung\n"
     ]
    }
   ],
   "source": [
    "ho = input('Ho: ')\n",
    "tendem = input('Ten dem: ')\n",
    "ten = input('Ten: ')\n",
    "\n",
    "hoten = f\"{ho} {tendem} {ten}\"\n",
    "print('Ho va ten:', hoten)"
   ]
  },
  {
   "cell_type": "code",
   "execution_count": 21,
   "metadata": {},
   "outputs": [
    {
     "name": "stdout",
     "output_type": "stream",
     "text": [
      "Ho va ten: Nguyen Hoang Bao Chau\n",
      "['Nguyen', 'Hoang', 'Bao', 'Chau']\n",
      "Ho: Nguyen\n",
      "Ten dem: Hoang Bao\n",
      "Ten: Chau\n"
     ]
    }
   ],
   "source": [
    "hoten = input('Ho va ten: ')\n",
    "arr = hoten.split()\n",
    "print(arr)\n",
    "N = len(arr)\n",
    "if N == 3:\n",
    "    ho = arr[0]\n",
    "    tendem = arr[1]\n",
    "    ten = arr[2]\n",
    "elif N == 2:\n",
    "    ho = arr[0]\n",
    "    tendem = ''\n",
    "    ten = arr[1]\n",
    "else:\n",
    "    ho = arr[0]\n",
    "    tendem = ' '.join(arr[1:N-1]) \n",
    "    ten = arr[N-1]\n",
    "\n",
    "print('Ho:', ho)\n",
    "print('Ten dem:', tendem)\n",
    "print('Ten:', ten)"
   ]
  },
  {
   "cell_type": "code",
   "execution_count": 24,
   "metadata": {},
   "outputs": [
    {
     "name": "stdout",
     "output_type": "stream",
     "text": [
      "Ngay: 26\n",
      "Thang: 10\n",
      "Nam: 2019\n"
     ]
    }
   ],
   "source": [
    "date = '26/10/2019'\n",
    "ngay = date[:2]\n",
    "thang = date[3:5]\n",
    "nam = date[6:]\n",
    "\n",
    "print('Ngay:', ngay)\n",
    "print('Thang:', thang)\n",
    "print('Nam:', nam)"
   ]
  },
  {
   "cell_type": "code",
   "execution_count": 25,
   "metadata": {},
   "outputs": [
    {
     "data": {
      "text/plain": [
       "-1"
      ]
     },
     "execution_count": 25,
     "metadata": {},
     "output_type": "execute_result"
    }
   ],
   "source": [
    "date.find(',')"
   ]
  },
  {
   "cell_type": "code",
   "execution_count": 28,
   "metadata": {},
   "outputs": [
    {
     "name": "stdout",
     "output_type": "stream",
     "text": [
      "20 1 2019\n"
     ]
    }
   ],
   "source": [
    "date1 = '20/1/2019'\n",
    "pos = date1.find('/')\n",
    "ngay = date1[:pos]\n",
    "ngay, thang, nam = date1.split('/')\n",
    "print(ngay, thang, nam)\n"
   ]
  },
  {
   "cell_type": "code",
   "execution_count": 31,
   "metadata": {},
   "outputs": [
    {
     "data": {
      "text/plain": [
       "'ha noi'"
      ]
     },
     "execution_count": 31,
     "metadata": {},
     "output_type": "execute_result"
    }
   ],
   "source": [
    "'Ha Noi'.lower()"
   ]
  },
  {
   "cell_type": "code",
   "execution_count": 30,
   "metadata": {},
   "outputs": [
    {
     "data": {
      "text/plain": [
       "'HA NOI'"
      ]
     },
     "execution_count": 30,
     "metadata": {},
     "output_type": "execute_result"
    }
   ],
   "source": [
    "'Ha Noi'.upper()"
   ]
  },
  {
   "cell_type": "code",
   "execution_count": 32,
   "metadata": {},
   "outputs": [
    {
     "data": {
      "text/plain": [
       "'Nguyen Duc Trung'"
      ]
     },
     "execution_count": 32,
     "metadata": {},
     "output_type": "execute_result"
    }
   ],
   "source": [
    "'nguyen duc trung'.title()"
   ]
  },
  {
   "cell_type": "code",
   "execution_count": 43,
   "metadata": {},
   "outputs": [
    {
     "name": "stdout",
     "output_type": "stream",
     "text": [
      "['', '', '']\n",
      "Nguyen Van A\n"
     ]
    }
   ],
   "source": [
    "name = 'Nguyen van a'\n",
    "arr = name.split()\n",
    "N = len(arr)\n",
    "\n",
    "arr2 = [''] * N\n",
    "print(arr2)\n",
    "\n",
    "for i in range(N):\n",
    "    s = arr[i]\n",
    "    s = s[0].upper() + s[1:]\n",
    "    arr2[i] = s\n",
    "print(' '.join(arr2))"
   ]
  },
  {
   "cell_type": "code",
   "execution_count": 45,
   "metadata": {},
   "outputs": [
    {
     "name": "stdout",
     "output_type": "stream",
     "text": [
      "['', '', '']\n",
      "hoVaTen\n"
     ]
    }
   ],
   "source": [
    "tenbien = 'ho_va_ten'\n",
    "arr = tenbien.split('_')\n",
    "N = len(arr)\n",
    "\n",
    "arr2 = [''] * N\n",
    "print(arr2)\n",
    "\n",
    "for i in range(N):\n",
    "    s = arr[i]\n",
    "    if i > 0:\n",
    "        s = s[0].upper() + s[1:]\n",
    "    arr2[i] = s\n",
    "print(''.join(arr2))\n"
   ]
  },
  {
   "cell_type": "code",
   "execution_count": 50,
   "metadata": {},
   "outputs": [
    {
     "name": "stdout",
     "output_type": "stream",
     "text": [
      "ho_va_ten\n"
     ]
    }
   ],
   "source": [
    "tenbien = 'hoVaTen'\n",
    "output = ''\n",
    "N = len(tenbien)\n",
    "\n",
    "for i in range(N):\n",
    "    c = tenbien[i]\n",
    "    if c.isupper():\n",
    "        c = c.lower()\n",
    "        output += '_'\n",
    "    output += c\n",
    "print(output)"
   ]
  },
  {
   "cell_type": "code",
   "execution_count": 57,
   "metadata": {},
   "outputs": [
    {
     "name": "stdout",
     "output_type": "stream",
     "text": [
      "Password:123456\n",
      "Mat khau khong chua chu cai\n"
     ]
    }
   ],
   "source": [
    "password = input('Password:')\n",
    "N = len(password)\n",
    "\n",
    "if N < 6:\n",
    "    print('Mat khau khong du ky tu')\n",
    "#TODO: Kiem tra password chua it nhat 1 chu so, chua chu cai a-z/A-Z\n",
    "has_digit = False\n",
    "for c in password:\n",
    "    if '0' <= c <= '9': #c.isdigit()\n",
    "        has_digit = True\n",
    "        break\n",
    "if not has_digit:\n",
    "    print('Mat khau khong chua chu so')\n",
    "    \n",
    "has_alpha = False\n",
    "for c in password:\n",
    "    if 'A' <= c.upper() <= 'Z': #c.isalpha()\n",
    "        has_alpha = True\n",
    "        break\n",
    "if not has_alpha:\n",
    "    print('Mat khau khong chua chu cai')\n",
    "\n",
    "if N>=6 and has_digit and has_alpha:\n",
    "    print('Mat khau dung')"
   ]
  },
  {
   "cell_type": "code",
   "execution_count": 61,
   "metadata": {},
   "outputs": [
    {
     "name": "stdout",
     "output_type": "stream",
     "text": [
      "['Nguyen', 'Van', 'A']\n",
      "Nguyen Van A\n"
     ]
    }
   ],
   "source": [
    "hoten = '              Nguyen    Van      A       \\n'\n",
    "arr = hoten.strip().split()\n",
    "print(arr)\n",
    "arr = ' '.join(arr)\n",
    "print(arr)"
   ]
  },
  {
   "cell_type": "code",
   "execution_count": null,
   "metadata": {},
   "outputs": [],
   "source": []
  }
 ],
 "metadata": {
  "kernelspec": {
   "display_name": "Python 3",
   "language": "python",
   "name": "python3"
  },
  "language_info": {
   "codemirror_mode": {
    "name": "ipython",
    "version": 3
   },
   "file_extension": ".py",
   "mimetype": "text/x-python",
   "name": "python",
   "nbconvert_exporter": "python",
   "pygments_lexer": "ipython3",
   "version": "3.6.8"
  }
 },
 "nbformat": 4,
 "nbformat_minor": 2
}
